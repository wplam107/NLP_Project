{
 "cells": [
  {
   "cell_type": "markdown",
   "metadata": {},
   "source": [
    "# Job Posting Data Acquisition and EDA"
   ]
  },
  {
   "cell_type": "code",
   "execution_count": 81,
   "metadata": {
    "ExecuteTime": {
     "end_time": "2020-03-25T03:32:29.939515Z",
     "start_time": "2020-03-25T03:32:29.929485Z"
    }
   },
   "outputs": [],
   "source": [
    "import numpy as np\n",
    "import pandas as pd\n",
    "from sklearn.model_selection import train_test_split\n",
    "from sklearn.ensemble import RandomForestClassifier\n",
    "from sklearn.linear_model import LogisticRegression\n",
    "from sklearn import svm\n",
    "from sklearn.pipeline import Pipeline\n",
    "from sklearn.decomposition import PCA\n",
    "from sklearn import tree\n",
    "from sklearn.model_selection import GridSearchCV\n",
    "from sklearn.metrics import f1_score, accuracy_score\n",
    "from sklearn.metrics import classification_report\n",
    "import xgboost as xgb\n",
    "from sklearn.metrics import confusion_matrix\n",
    "# from gensim.models import Word2Vec\n",
    "# from nltk import word_tokenize\n",
    "# import matplotlib.pyplot as plt\n",
    "# import seaborn as sns\n",
    "import re\n",
    "\n",
    "from dfunc import df_info\n",
    "from dfunc import chi_sq\n",
    "from dfunc import feat_to_dum\n",
    "\n",
    "np.random.seed(0)\n",
    "pd.set_option('display.max_columns', 300)"
   ]
  },
  {
   "cell_type": "code",
   "execution_count": 2,
   "metadata": {
    "ExecuteTime": {
     "end_time": "2020-03-25T01:46:38.826378Z",
     "start_time": "2020-03-25T01:46:38.322144Z"
    }
   },
   "outputs": [],
   "source": [
    "df = pd.read_csv('fake_job_postings.csv', index_col=0)"
   ]
  },
  {
   "cell_type": "markdown",
   "metadata": {},
   "source": [
    "## Initial Data Cleaning/Engineering and EDA\n",
    "- Total Observations: 17880 rows\n",
    "- Total Features: 16 columns\n",
    "- Target Variable: 'fraudulent', 0 is real, 1 is false\n",
    "    - 0: 17014\n",
    "    - 1: 866\n",
    "- Features to drop:\n",
    "    - 'title': No standardization of naming job titles, >1000 different titles\n",
    "- Categorical Features: 'location', 'salary_range', 'telecommuting', 'has_company_logo', 'has_questions', 'employment_type', 'required_experience', 'required_education', 'industry', 'function'\n",
    "- NLP Features: 'company_profile', 'description', 'requirements', 'benefits'"
   ]
  },
  {
   "cell_type": "code",
   "execution_count": 3,
   "metadata": {
    "ExecuteTime": {
     "end_time": "2020-03-25T01:46:42.428067Z",
     "start_time": "2020-03-25T01:46:42.424632Z"
    }
   },
   "outputs": [],
   "source": [
    "target = 'fraudulent'"
   ]
  },
  {
   "cell_type": "code",
   "execution_count": 4,
   "metadata": {
    "ExecuteTime": {
     "end_time": "2020-03-25T01:46:43.057298Z",
     "start_time": "2020-03-25T01:46:43.024872Z"
    }
   },
   "outputs": [
    {
     "name": "stdout",
     "output_type": "stream",
     "text": [
      "Total Observations: 17880\n",
      "Target Variable: fraudulent\n",
      "Classes: 2\n",
      "Imbalance: 0 - 17014, 1 - 866\n",
      "Imbalance Ratio: 0 - 95.16%, 1 - 4.84%\n",
      "\n",
      "No missing values: title, telecommuting, has_company_logo, has_questions, fraudulent\n",
      "\n",
      "Values Missing:\n",
      "---------------\n",
      "location: 346 (1.94%)\n",
      "department: 11547 (64.58%) ***\n",
      "salary_range: 15012 (83.96%) ***\n",
      "company_profile: 3308 (18.5%)\n",
      "description: 1 (0.01%)\n",
      "requirements: 2695 (15.07%)\n",
      "benefits: 7210 (40.32%) ***\n",
      "employment_type: 3471 (19.41%)\n",
      "required_experience: 7050 (39.43%) ***\n",
      "required_education: 8105 (45.33%) ***\n",
      "industry: 4903 (27.42%) ***\n",
      "function: 6455 (36.1%) ***\n"
     ]
    }
   ],
   "source": [
    "df_info(df, target)"
   ]
  },
  {
   "cell_type": "code",
   "execution_count": 5,
   "metadata": {
    "ExecuteTime": {
     "end_time": "2020-03-25T01:46:46.082118Z",
     "start_time": "2020-03-25T01:46:46.072444Z"
    }
   },
   "outputs": [],
   "source": [
    "# Drop 'title'\n",
    "df.drop(columns=['title'], inplace=True)"
   ]
  },
  {
   "cell_type": "markdown",
   "metadata": {},
   "source": [
    "### Narrow down to US job postings"
   ]
  },
  {
   "cell_type": "code",
   "execution_count": 6,
   "metadata": {
    "ExecuteTime": {
     "end_time": "2020-03-25T01:46:48.817029Z",
     "start_time": "2020-03-25T01:46:48.800147Z"
    }
   },
   "outputs": [],
   "source": [
    "# Only keeping US job postings\n",
    "df = df.loc[df['location'].str[:2] == 'US']"
   ]
  },
  {
   "cell_type": "markdown",
   "metadata": {},
   "source": [
    "### Run Chi-squared tests on features with missing values\n",
    "- Null Hypotheses: The proportions of false job reportings for null feature values and non-null feature values are equal\n",
    "- Drop 'function', too many categories, too many missing values, low chi-sq\n",
    "- Drop 'industry, too many categories, too many missing values, low chi-sq"
   ]
  },
  {
   "cell_type": "code",
   "execution_count": 7,
   "metadata": {
    "ExecuteTime": {
     "end_time": "2020-03-25T01:46:51.259247Z",
     "start_time": "2020-03-25T01:46:51.240781Z"
    }
   },
   "outputs": [
    {
     "name": "stdout",
     "output_type": "stream",
     "text": [
      "Reject Null Hypothesis\n",
      "Chi-Squared: 66.3287\n",
      "p-value: 0.0\n",
      "\n",
      "Target True when NaN: 5.59%\n",
      "Target False when NaN: 94.41%\n",
      "Target True when non-null: 10.01%\n",
      "Target False when non-null: 89.99%\n"
     ]
    }
   ],
   "source": [
    "chi_sq(df, feature='department', target=target)"
   ]
  },
  {
   "cell_type": "code",
   "execution_count": 8,
   "metadata": {
    "ExecuteTime": {
     "end_time": "2020-03-25T01:46:51.843830Z",
     "start_time": "2020-03-25T01:46:51.824767Z"
    }
   },
   "outputs": [
    {
     "name": "stdout",
     "output_type": "stream",
     "text": [
      "Reject Null Hypothesis\n",
      "Chi-Squared: 12.3865\n",
      "p-value: 0.002\n",
      "\n",
      "Target True when NaN: 7.86%\n",
      "Target False when NaN: 92.14%\n",
      "Target True when non-null: 6.12%\n",
      "Target False when non-null: 93.88%\n"
     ]
    }
   ],
   "source": [
    "chi_sq(df, feature='required_education', target=target)"
   ]
  },
  {
   "cell_type": "code",
   "execution_count": 9,
   "metadata": {
    "ExecuteTime": {
     "end_time": "2020-03-25T01:46:53.931493Z",
     "start_time": "2020-03-25T01:46:53.912243Z"
    }
   },
   "outputs": [
    {
     "name": "stdout",
     "output_type": "stream",
     "text": [
      "Reject Null Hypothesis\n",
      "Chi-Squared: 16.2374\n",
      "p-value: 0.0003\n",
      "\n",
      "Target True when NaN: 8.05%\n",
      "Target False when NaN: 91.95%\n",
      "Target True when non-null: 6.04%\n",
      "Target False when non-null: 93.96%\n"
     ]
    }
   ],
   "source": [
    "chi_sq(df, feature='required_experience', target=target)"
   ]
  },
  {
   "cell_type": "code",
   "execution_count": 10,
   "metadata": {
    "ExecuteTime": {
     "end_time": "2020-03-25T01:46:54.436399Z",
     "start_time": "2020-03-25T01:46:54.417377Z"
    }
   },
   "outputs": [
    {
     "name": "stdout",
     "output_type": "stream",
     "text": [
      "Cannot Reject Null Hypothesis\n",
      "Chi-Squared: 1.8199\n",
      "p-value: 0.4025\n",
      "\n",
      "Target True when NaN: 7.42%\n",
      "Target False when NaN: 92.58%\n",
      "Target True when non-null: 6.66%\n",
      "Target False when non-null: 93.34%\n"
     ]
    }
   ],
   "source": [
    "chi_sq(df, feature='industry', target=target)"
   ]
  },
  {
   "cell_type": "code",
   "execution_count": 11,
   "metadata": {
    "ExecuteTime": {
     "end_time": "2020-03-25T01:46:56.956716Z",
     "start_time": "2020-03-25T01:46:56.936338Z"
    }
   },
   "outputs": [
    {
     "name": "stdout",
     "output_type": "stream",
     "text": [
      "Cannot Reject Null Hypothesis\n",
      "Chi-Squared: 2.914\n",
      "p-value: 0.2329\n",
      "\n",
      "Target True when NaN: 6.3%\n",
      "Target False when NaN: 93.7%\n",
      "Target True when non-null: 7.17%\n",
      "Target False when non-null: 92.83%\n"
     ]
    }
   ],
   "source": [
    "chi_sq(df, feature='function', target=target)"
   ]
  },
  {
   "cell_type": "code",
   "execution_count": 12,
   "metadata": {
    "ExecuteTime": {
     "end_time": "2020-03-25T01:46:57.681143Z",
     "start_time": "2020-03-25T01:46:57.657452Z"
    }
   },
   "outputs": [
    {
     "name": "stdout",
     "output_type": "stream",
     "text": [
      "Reject Null Hypothesis\n",
      "Chi-Squared: 48.2519\n",
      "p-value: 0.0\n",
      "\n",
      "Target True when NaN: 10.67%\n",
      "Target False when NaN: 89.33%\n",
      "Target True when non-null: 6.09%\n",
      "Target False when non-null: 93.91%\n"
     ]
    }
   ],
   "source": [
    "chi_sq(df, feature='employment_type', target=target)"
   ]
  },
  {
   "cell_type": "code",
   "execution_count": 13,
   "metadata": {
    "ExecuteTime": {
     "end_time": "2020-03-25T01:46:58.659551Z",
     "start_time": "2020-03-25T01:46:58.641067Z"
    }
   },
   "outputs": [
    {
     "name": "stdout",
     "output_type": "stream",
     "text": [
      "Reject Null Hypothesis\n",
      "Chi-Squared: 65.1333\n",
      "p-value: 0.0\n",
      "\n",
      "Target True when NaN: 6.03%\n",
      "Target False when NaN: 93.97%\n",
      "Target True when non-null: 11.62%\n",
      "Target False when non-null: 88.38%\n"
     ]
    }
   ],
   "source": [
    "chi_sq(df, feature='salary_range', target=target)"
   ]
  },
  {
   "cell_type": "code",
   "execution_count": 14,
   "metadata": {
    "ExecuteTime": {
     "end_time": "2020-03-25T01:47:00.536354Z",
     "start_time": "2020-03-25T01:47:00.529225Z"
    }
   },
   "outputs": [],
   "source": [
    "# Drop columns\n",
    "df.drop(columns=['industry', 'function'], inplace=True)"
   ]
  },
  {
   "cell_type": "markdown",
   "metadata": {
    "ExecuteTime": {
     "end_time": "2020-03-24T00:53:31.071240Z",
     "start_time": "2020-03-24T00:53:31.047924Z"
    }
   },
   "source": [
    "### Salary range feature\n",
    "- Ratio of fake to real job postings is much greater in postings that include salary range\n",
    "- Convert feature to whether or not salary is posted"
   ]
  },
  {
   "cell_type": "code",
   "execution_count": 15,
   "metadata": {
    "ExecuteTime": {
     "end_time": "2020-03-25T01:48:20.462294Z",
     "start_time": "2020-03-25T01:48:20.454483Z"
    }
   },
   "outputs": [],
   "source": [
    "# Create salary dummy\n",
    "df['salary_range'] = np.where(df['salary_range'].isna() == True, 0, 1)"
   ]
  },
  {
   "cell_type": "markdown",
   "metadata": {},
   "source": [
    "### Clean location feature\n",
    "- Replace with state dummies"
   ]
  },
  {
   "cell_type": "code",
   "execution_count": 16,
   "metadata": {
    "ExecuteTime": {
     "end_time": "2020-03-25T01:48:23.628776Z",
     "start_time": "2020-03-25T01:48:23.565946Z"
    }
   },
   "outputs": [],
   "source": [
    "# Create 'state' feature, if no state exists then 'no state'\n",
    "condition = df['location'].str.extract(r'([A-Z]{2}(?<!US))').notnull()\n",
    "value = df['location'].str.extract(r'([A-Z]{2}(?<!US))')\n",
    "df['state'] = np.where(condition, value, 'No State')\n",
    "df['state'] = np.where((df['state'] == 'AU') | (df['state'] == 'LO'), 'No State', df['state'])\n",
    "df.drop(columns='location', inplace=True)"
   ]
  },
  {
   "cell_type": "code",
   "execution_count": 17,
   "metadata": {
    "ExecuteTime": {
     "end_time": "2020-03-25T01:48:24.390588Z",
     "start_time": "2020-03-25T01:48:24.366019Z"
    }
   },
   "outputs": [
    {
     "name": "stdout",
     "output_type": "stream",
     "text": [
      "Feature Dummied and Dropped: state\n"
     ]
    }
   ],
   "source": [
    "df = feat_to_dum(df, 'state', s_value='Unspecified', pref=None)"
   ]
  },
  {
   "cell_type": "markdown",
   "metadata": {},
   "source": [
    "### Department feature\n",
    "- Convert to dummy, too many different categories with no standardization"
   ]
  },
  {
   "cell_type": "code",
   "execution_count": 18,
   "metadata": {
    "ExecuteTime": {
     "end_time": "2020-03-25T01:48:27.212604Z",
     "start_time": "2020-03-25T01:48:27.205720Z"
    }
   },
   "outputs": [],
   "source": [
    "# Convert department to dummy\n",
    "df['department'] = np.where(df['department'].isna() == True, 0, 1)"
   ]
  },
  {
   "cell_type": "markdown",
   "metadata": {},
   "source": [
    "### Remaining features\n",
    "- Create 'Unspecified' category for Nan values, dummy, the drop column"
   ]
  },
  {
   "cell_type": "code",
   "execution_count": 19,
   "metadata": {
    "ExecuteTime": {
     "end_time": "2020-03-25T01:48:29.787642Z",
     "start_time": "2020-03-25T01:48:29.766769Z"
    }
   },
   "outputs": [
    {
     "name": "stdout",
     "output_type": "stream",
     "text": [
      "Feature Dummied and Dropped: employment_type\n"
     ]
    }
   ],
   "source": [
    "df = feat_to_dum(df, 'employment_type', s_value='Unspecified', pref='et')"
   ]
  },
  {
   "cell_type": "code",
   "execution_count": 20,
   "metadata": {
    "ExecuteTime": {
     "end_time": "2020-03-25T01:48:30.256892Z",
     "start_time": "2020-03-25T01:48:30.237502Z"
    }
   },
   "outputs": [
    {
     "name": "stdout",
     "output_type": "stream",
     "text": [
      "Feature Dummied and Dropped: required_experience\n"
     ]
    }
   ],
   "source": [
    "df = feat_to_dum(df, 'required_experience', s_value='Unspecified', pref='rex')"
   ]
  },
  {
   "cell_type": "code",
   "execution_count": 21,
   "metadata": {
    "ExecuteTime": {
     "end_time": "2020-03-25T01:48:30.662602Z",
     "start_time": "2020-03-25T01:48:30.645955Z"
    }
   },
   "outputs": [
    {
     "name": "stdout",
     "output_type": "stream",
     "text": [
      "Feature Dummied and Dropped: required_education\n"
     ]
    }
   ],
   "source": [
    "df = feat_to_dum(df, 'required_education', s_value='Unspecified', pref='red')"
   ]
  },
  {
   "cell_type": "code",
   "execution_count": 24,
   "metadata": {
    "ExecuteTime": {
     "end_time": "2020-03-25T01:53:47.919312Z",
     "start_time": "2020-03-25T01:53:47.910775Z"
    }
   },
   "outputs": [],
   "source": [
    "y = df[target]\n",
    "X = df.drop(columns=[target, 'description', 'company_profile', 'requirements', 'benefits'])"
   ]
  },
  {
   "cell_type": "code",
   "execution_count": 46,
   "metadata": {
    "ExecuteTime": {
     "end_time": "2020-03-25T02:25:29.349609Z",
     "start_time": "2020-03-25T02:25:28.806772Z"
    }
   },
   "outputs": [
    {
     "name": "stdout",
     "output_type": "stream",
     "text": [
      "0.841464702232478\n",
      "0.9548814611159887\n",
      "0.9931092649986493\n",
      "0.979972499631415\n"
     ]
    }
   ],
   "source": [
    "pca_1 = PCA(n_components=20)\n",
    "pca_2 = PCA(n_components=40)\n",
    "pca_3 = PCA(n_components=60)\n",
    "\n",
    "principalComponents = pca_1.fit_transform(X)\n",
    "principalComponents = pca_2.fit_transform(X)\n",
    "principalComponents = pca_3.fit_transform(X)\n",
    "\n",
    "print(np.sum(pca_1.explained_variance_ratio_))\n",
    "print(np.sum(pca_2.explained_variance_ratio_))\n",
    "print(np.sum(pca_3.explained_variance_ratio_))\n",
    "\n",
    "pca = PCA(n_components=50)\n",
    "principalComponents = pca.fit_transform(X)\n",
    "print(np.sum(pca.explained_variance_ratio_))"
   ]
  },
  {
   "cell_type": "code",
   "execution_count": 32,
   "metadata": {
    "ExecuteTime": {
     "end_time": "2020-03-25T02:14:15.969437Z",
     "start_time": "2020-03-25T02:14:15.953279Z"
    }
   },
   "outputs": [],
   "source": [
    "X_train, X_test, y_train, y_test = train_test_split(X, y, test_size=0.4, random_state=42)"
   ]
  },
  {
   "cell_type": "code",
   "execution_count": 47,
   "metadata": {
    "ExecuteTime": {
     "end_time": "2020-03-25T02:25:35.791023Z",
     "start_time": "2020-03-25T02:25:35.622570Z"
    }
   },
   "outputs": [
    {
     "name": "stdout",
     "output_type": "stream",
     "text": [
      "0.9322073657049027\n"
     ]
    }
   ],
   "source": [
    "pipe_lr = Pipeline([('pca', PCA(n_components=50, random_state=123)),\n",
    "                    ('clf', LogisticRegression(random_state=123))])\n",
    "\n",
    "pipe_lr.fit(X_train, y_train)\n",
    "\n",
    "print(pipe_lr.score(X_test, y_test))"
   ]
  },
  {
   "cell_type": "code",
   "execution_count": 49,
   "metadata": {
    "ExecuteTime": {
     "end_time": "2020-03-25T02:25:58.739669Z",
     "start_time": "2020-03-25T02:25:53.743619Z"
    }
   },
   "outputs": [
    {
     "name": "stdout",
     "output_type": "stream",
     "text": [
      "Pipeline(memory=None,\n",
      "         steps=[('pca',\n",
      "                 PCA(copy=True, iterated_power='auto', n_components=50,\n",
      "                     random_state=None, svd_solver='auto', tol=0.0,\n",
      "                     whiten=False)),\n",
      "                ('clf',\n",
      "                 SVC(C=1.0, break_ties=False, cache_size=200, class_weight=None,\n",
      "                     coef0=0.0, decision_function_shape='ovr', degree=3,\n",
      "                     gamma='scale', kernel='rbf', max_iter=-1,\n",
      "                     probability=False, random_state=123, shrinking=True,\n",
      "                     tol=0.001, verbose=False))],\n",
      "         verbose=False)\n",
      "Pipeline(memory=None,\n",
      "         steps=[('pca',\n",
      "                 PCA(copy=True, iterated_power='auto', n_components=50,\n",
      "                     random_state=None, svd_solver='auto', tol=0.0,\n",
      "                     whiten=False)),\n",
      "                ('clf',\n",
      "                 DecisionTreeClassifier(ccp_alpha=0.0, class_weight=None,\n",
      "                                        criterion='gini', max_depth=None,\n",
      "                                        max_features=None, max_leaf_nodes=None,\n",
      "                                        min_impurity_decrease=0.0,\n",
      "                                        min_impurity_split=None,\n",
      "                                        min_samples_leaf=1, min_samples_split=2,\n",
      "                                        min_weight_fraction_leaf=0.0,\n",
      "                                        presort='deprecated', random_state=123,\n",
      "                                        splitter='best'))],\n",
      "         verbose=False)\n",
      "Pipeline(memory=None,\n",
      "         steps=[('pca',\n",
      "                 PCA(copy=True, iterated_power='auto', n_components=50,\n",
      "                     random_state=None, svd_solver='auto', tol=0.0,\n",
      "                     whiten=False)),\n",
      "                ('clf',\n",
      "                 RandomForestClassifier(bootstrap=True, ccp_alpha=0.0,\n",
      "                                        class_weight=None, criterion='gini',\n",
      "                                        max_depth=None, max_features='auto',\n",
      "                                        max_leaf_nodes=None, max_samples=None,\n",
      "                                        min_impurity_decrease=0.0,\n",
      "                                        min_impurity_split=None,\n",
      "                                        min_samples_leaf=1, min_samples_split=2,\n",
      "                                        min_weight_fraction_leaf=0.0,\n",
      "                                        n_estimators=100, n_jobs=None,\n",
      "                                        oob_score=False, random_state=123,\n",
      "                                        verbose=0, warm_start=False))],\n",
      "         verbose=False)\n",
      "Support Vector Machine pipeline test accuracy: 0.939\n",
      "Decision Tree pipeline test accuracy: 0.931\n",
      "Random Forest pipeline test accuracy: 0.941\n"
     ]
    }
   ],
   "source": [
    "pipe_svm = Pipeline([('pca', PCA(n_components=50)),\n",
    "                     ('clf', svm.SVC(random_state=123))])\n",
    "        \n",
    "pipe_tree = Pipeline([('pca', PCA(n_components=50)),\n",
    "                      ('clf', tree.DecisionTreeClassifier(random_state=123))])\n",
    "\n",
    "pipe_rf = Pipeline([('pca', PCA(n_components=50)),\n",
    "                    ('clf', RandomForestClassifier(random_state=123))])\n",
    "\n",
    "pipelines = [pipe_svm, pipe_tree, pipe_rf]\n",
    "pipeline_names = ['Support Vector Machine','Decision Tree','Random Forest']\n",
    "\n",
    "# Loop to fit each of the three pipelines\n",
    "for pipe in pipelines:\n",
    "    print(pipe)\n",
    "    pipe.fit(X_train, y_train)\n",
    "\n",
    "# Compare accuracies\n",
    "for index, val in enumerate(pipelines):\n",
    "    print('%s pipeline test accuracy: %.3f' % (pipeline_names[index], val.score(X_test, y_test)))"
   ]
  },
  {
   "cell_type": "code",
   "execution_count": 68,
   "metadata": {
    "ExecuteTime": {
     "end_time": "2020-03-25T03:01:34.723582Z",
     "start_time": "2020-03-25T03:00:08.243049Z"
    }
   },
   "outputs": [
    {
     "name": "stdout",
     "output_type": "stream",
     "text": [
      "Fitting 5 folds for each of 162 candidates, totalling 810 fits\n"
     ]
    },
    {
     "name": "stderr",
     "output_type": "stream",
     "text": [
      "[Parallel(n_jobs=-1)]: Using backend LokyBackend with 8 concurrent workers.\n",
      "[Parallel(n_jobs=-1)]: Done  34 tasks      | elapsed:    6.7s\n",
      "[Parallel(n_jobs=-1)]: Done 184 tasks      | elapsed:   21.2s\n",
      "[Parallel(n_jobs=-1)]: Done 434 tasks      | elapsed:   47.1s\n",
      "[Parallel(n_jobs=-1)]: Done 784 tasks      | elapsed:  1.4min\n",
      "[Parallel(n_jobs=-1)]: Done 810 out of 810 | elapsed:  1.4min finished\n"
     ]
    },
    {
     "name": "stdout",
     "output_type": "stream",
     "text": [
      "\n",
      "Best params:\n",
      " {'criterion': 'entropy', 'max_depth': 4, 'min_samples_leaf': 0.05, 'min_samples_split': 0.05, 'n_estimators': 100}\n",
      "Accuracy: 0.929627\n",
      "F1: 0.000000\n"
     ]
    }
   ],
   "source": [
    "# pipe_rf = Pipeline([('pca', PCA(n_components=50)),\n",
    "#                     ('clf', RandomForestClassifier(random_state = 123))])\n",
    "\n",
    "rf_model = RandomForestClassifier()\n",
    "# Set grid search params\n",
    "param_grid_forest = {'n_estimators': [100, 150, 200],\n",
    "                     'criterion': ['entropy', 'gini'],\n",
    "                     'max_depth': [4, 5, 6],\n",
    "                     'min_samples_leaf':[0.05 ,0.1, 0.2],\n",
    "                     'min_samples_split':[0.05 ,0.1, 0.2]}\n",
    "\n",
    "# Construct grid search\n",
    "gs_rf = GridSearchCV(estimator=rf_model,\n",
    "                     param_grid=param_grid_forest,\n",
    "                     scoring='f1', cv=5, n_jobs=-1,\n",
    "                     verbose=1, return_train_score = True)\n",
    "\n",
    "# Fit using grid search\n",
    "gs_rf.fit(X_train, y_train)\n",
    "\n",
    "# Best params\n",
    "print('\\nBest params:\\n', gs_rf.best_params_)\n",
    "\n",
    "gs_rf_model = gs_rf.best_estimator_\n",
    "\n",
    "preds = gs_rf_model.predict(X_test)\n",
    "test_f1 = f1_score(y_test, preds)\n",
    "test_acc = accuracy_score(y_test, preds)\n",
    "\n",
    "print(\"Accuracy: %f\" % (test_acc))\n",
    "print(\"F1: %f\" % (test_f1))"
   ]
  },
  {
   "cell_type": "code",
   "execution_count": 69,
   "metadata": {
    "ExecuteTime": {
     "end_time": "2020-03-25T03:01:51.052489Z",
     "start_time": "2020-03-25T03:01:42.609414Z"
    }
   },
   "outputs": [
    {
     "name": "stdout",
     "output_type": "stream",
     "text": [
      "Fitting 5 folds for each of 7 candidates, totalling 35 fits\n"
     ]
    },
    {
     "name": "stderr",
     "output_type": "stream",
     "text": [
      "[Parallel(n_jobs=-1)]: Using backend LokyBackend with 8 concurrent workers.\n",
      "[Parallel(n_jobs=-1)]: Done  35 out of  35 | elapsed:    7.8s finished\n"
     ]
    },
    {
     "name": "stdout",
     "output_type": "stream",
     "text": [
      "\n",
      "Best params:\n",
      " {'clf__C': 0.1, 'clf__kernel': 'linear'}\n",
      "Accuracy: 0.929627\n",
      "F1: 0.000000\n"
     ]
    }
   ],
   "source": [
    "pipe_svm = Pipeline([('pca', PCA(n_components=50)),\n",
    "                     ('clf', svm.SVC(random_state=123))])\n",
    "\n",
    "# Set grid search params\n",
    "param_grid_svm = [{'clf__C': [0.1, 1, 10]  , 'clf__kernel': ['linear']},\n",
    "                  {'clf__C': [1, 10], 'clf__gamma': [0.001, 0.01], 'clf__kernel': ['rbf']}]\n",
    "\n",
    "# Construct grid search\n",
    "gs_svm = GridSearchCV(estimator=pipe_svm,\n",
    "                      param_grid=param_grid_svm,\n",
    "                      scoring='f1', cv=5, n_jobs=-1,\n",
    "                      verbose=1, return_train_score = True)\n",
    "\n",
    "# Fit using grid search\n",
    "gs_svm.fit(X_train, y_train)\n",
    "\n",
    "\n",
    "# Best params\n",
    "print('\\nBest params:\\n', gs_svm.best_params_)\n",
    "\n",
    "preds = gs_svm.best_estimator_.predict(X_test)\n",
    "\n",
    "test_f1 = f1_score(y_test, preds)\n",
    "test_acc = accuracy_score(y_test, preds)\n",
    "\n",
    "print(\"Accuracy: %f\" % (test_acc))\n",
    "print(\"F1: %f\" % (test_f1))"
   ]
  },
  {
   "cell_type": "code",
   "execution_count": 63,
   "metadata": {
    "ExecuteTime": {
     "end_time": "2020-03-25T02:47:39.555182Z",
     "start_time": "2020-03-25T02:47:39.550642Z"
    }
   },
   "outputs": [],
   "source": [
    "xgb_params = {'n_estimators': [150, 200, 300, 400],\n",
    "              'learning_rate': [0.1, 0.09],\n",
    "              'max_depth': [7, 8, 9],\n",
    "              'colsample_bytree': [0.8],\n",
    "              'min_child_weight': [1]}"
   ]
  },
  {
   "cell_type": "code",
   "execution_count": 64,
   "metadata": {
    "ExecuteTime": {
     "end_time": "2020-03-25T02:52:54.478369Z",
     "start_time": "2020-03-25T02:47:40.926439Z"
    }
   },
   "outputs": [
    {
     "name": "stdout",
     "output_type": "stream",
     "text": [
      "Fitting 5 folds for each of 24 candidates, totalling 120 fits\n"
     ]
    },
    {
     "name": "stderr",
     "output_type": "stream",
     "text": [
      "[Parallel(n_jobs=-1)]: Using backend LokyBackend with 8 concurrent workers.\n",
      "[Parallel(n_jobs=-1)]: Done  34 tasks      | elapsed:  1.4min\n",
      "[Parallel(n_jobs=-1)]: Done 120 out of 120 | elapsed:  4.9min finished\n"
     ]
    },
    {
     "name": "stdout",
     "output_type": "stream",
     "text": [
      "Accuracy: 0.941121\n",
      "F1: 0.450766\n"
     ]
    }
   ],
   "source": [
    "xgb_model = xgb.XGBClassifier()\n",
    "gs_xgb = GridSearchCV(estimator=xgb_model,\n",
    "                      param_grid=xgb_params,\n",
    "                      scoring='f1',\n",
    "                      n_jobs=-1,\n",
    "                      verbose=1,\n",
    "                      cv=5)\n",
    "\n",
    "gs_xgb.fit(X_train, y_train)\n",
    "xgb_model = gs_xgb.best_estimator_\n",
    "\n",
    "preds = xgb_model.predict(X_test)\n",
    "test_f1 = f1_score(y_test, preds)\n",
    "test_acc = accuracy_score(y_test, preds)\n",
    "print('\\nBest params:\\n', gs_xgb.best_params_)\n",
    "print(\"Accuracy: %f\" % (test_acc))\n",
    "print(\"F1: %f\" % (test_f1))"
   ]
  },
  {
   "cell_type": "code",
   "execution_count": 70,
   "metadata": {
    "ExecuteTime": {
     "end_time": "2020-03-25T03:06:44.965243Z",
     "start_time": "2020-03-25T03:06:44.788261Z"
    }
   },
   "outputs": [],
   "source": [
    "preds = xgb_model.predict(X_test)"
   ]
  },
  {
   "cell_type": "code",
   "execution_count": 72,
   "metadata": {
    "ExecuteTime": {
     "end_time": "2020-03-25T03:06:55.486265Z",
     "start_time": "2020-03-25T03:06:55.481024Z"
    }
   },
   "outputs": [
    {
     "data": {
      "text/plain": [
       "157"
      ]
     },
     "execution_count": 72,
     "metadata": {},
     "output_type": "execute_result"
    }
   ],
   "source": [
    "sum(preds)"
   ]
  },
  {
   "cell_type": "code",
   "execution_count": 74,
   "metadata": {
    "ExecuteTime": {
     "end_time": "2020-03-25T03:09:30.902059Z",
     "start_time": "2020-03-25T03:09:30.887655Z"
    }
   },
   "outputs": [
    {
     "data": {
      "text/plain": [
       "array([[3909,   54],\n",
       "       [ 197,  103]])"
      ]
     },
     "execution_count": 74,
     "metadata": {},
     "output_type": "execute_result"
    }
   ],
   "source": [
    "confusion_matrix(y_test, preds)"
   ]
  },
  {
   "cell_type": "code",
   "execution_count": 83,
   "metadata": {
    "ExecuteTime": {
     "end_time": "2020-03-25T03:32:53.497805Z",
     "start_time": "2020-03-25T03:32:53.482745Z"
    }
   },
   "outputs": [
    {
     "name": "stdout",
     "output_type": "stream",
     "text": [
      "              precision    recall  f1-score   support\n",
      "\n",
      "           0       0.95      0.99      0.97      3963\n",
      "           1       0.66      0.34      0.45       300\n",
      "\n",
      "    accuracy                           0.94      4263\n",
      "   macro avg       0.80      0.66      0.71      4263\n",
      "weighted avg       0.93      0.94      0.93      4263\n",
      "\n"
     ]
    }
   ],
   "source": [
    "print(classification_report(y_test, preds))"
   ]
  },
  {
   "cell_type": "code",
   "execution_count": 79,
   "metadata": {
    "ExecuteTime": {
     "end_time": "2020-03-25T03:27:16.509397Z",
     "start_time": "2020-03-25T03:27:16.497635Z"
    }
   },
   "outputs": [
    {
     "data": {
      "text/plain": [
       "4263"
      ]
     },
     "execution_count": 79,
     "metadata": {},
     "output_type": "execute_result"
    }
   ],
   "source": [
    "len(y_test)"
   ]
  },
  {
   "cell_type": "code",
   "execution_count": 80,
   "metadata": {
    "ExecuteTime": {
     "end_time": "2020-03-25T03:28:08.507214Z",
     "start_time": "2020-03-25T03:28:08.419594Z"
    }
   },
   "outputs": [
    {
     "name": "stdout",
     "output_type": "stream",
     "text": [
      "Total Observations: 10656\n",
      "Target Variable: fraudulent\n",
      "Classes: 2\n",
      "Imbalance: 0 - 9926, 1 - 730\n",
      "Imbalance Ratio: 0 - 93.15%, 1 - 6.85%\n",
      "\n",
      "No missing values: department, salary_range, description, telecommuting, has_company_logo, has_questions, fraudulent, AL, AR, AZ, CA, CO, CT, DC, DE, FL, GA, HI, IA, ID, IL, IN, KS, KY, LA, MA, MD, ME, MI, MN, MO, MS, MT, NC, ND, NE, NH, NJ, NM, NV, NY, No State, OH, OK, OR, PA, RI, SC, SD, TN, TX, UT, VA, VT, WA, WI, WV, WY, et_Full-time, et_Other, et_Part-time, et_Temporary, et_Unspecified, rex_Director, rex_Entry level, rex_Executive, rex_Internship, rex_Mid-Senior level, rex_Not Applicable, rex_Unspecified, red_Bachelor's Degree, red_Certification, red_Doctorate, red_High School or equivalent, red_Master's Degree, red_Professional, red_Some College Coursework Completed, red_Some High School Coursework, red_Unspecified, red_Vocational, red_Vocational - Degree, red_Vocational - HS Diploma\n",
      "\n",
      "Values Missing:\n",
      "---------------\n",
      "company_profile: 2076 (19.48%)\n",
      "requirements: 1774 (16.65%)\n",
      "benefits: 4682 (43.94%) ***\n"
     ]
    }
   ],
   "source": [
    "df_info(df, target)"
   ]
  },
  {
   "cell_type": "code",
   "execution_count": null,
   "metadata": {},
   "outputs": [],
   "source": []
  }
 ],
 "metadata": {
  "kernelspec": {
   "display_name": "Python 3",
   "language": "python",
   "name": "python3"
  },
  "language_info": {
   "codemirror_mode": {
    "name": "ipython",
    "version": 3
   },
   "file_extension": ".py",
   "mimetype": "text/x-python",
   "name": "python",
   "nbconvert_exporter": "python",
   "pygments_lexer": "ipython3",
   "version": "3.6.9"
  },
  "toc": {
   "base_numbering": 1,
   "nav_menu": {},
   "number_sections": true,
   "sideBar": true,
   "skip_h1_title": false,
   "title_cell": "Table of Contents",
   "title_sidebar": "Contents",
   "toc_cell": false,
   "toc_position": {},
   "toc_section_display": true,
   "toc_window_display": true
  }
 },
 "nbformat": 4,
 "nbformat_minor": 2
}
