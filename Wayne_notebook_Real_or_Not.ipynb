{
 "cells": [
  {
   "cell_type": "markdown",
   "metadata": {},
   "source": [
    "# Job Posting Data Acquisition and EDA"
   ]
  },
  {
   "cell_type": "code",
   "execution_count": 1,
   "metadata": {
    "ExecuteTime": {
     "end_time": "2020-03-24T23:42:52.327978Z",
     "start_time": "2020-03-24T23:42:50.457761Z"
    }
   },
   "outputs": [],
   "source": [
    "import numpy as np\n",
    "import pandas as pd\n",
    "# from gensim.models import Word2Vec\n",
    "# from nltk import word_tokenize\n",
    "# import matplotlib.pyplot as plt\n",
    "# import seaborn as sns\n",
    "import re\n",
    "import dfunc\n",
    "from dfunc import df_info\n",
    "from dfunc import chi_sq\n",
    "\n",
    "np.random.seed(0)\n",
    "pd.set_option('display.max_columns', 300)"
   ]
  },
  {
   "cell_type": "code",
   "execution_count": 2,
   "metadata": {
    "ExecuteTime": {
     "end_time": "2020-03-24T23:42:52.815662Z",
     "start_time": "2020-03-24T23:42:52.330776Z"
    }
   },
   "outputs": [],
   "source": [
    "df = pd.read_csv('fake_job_postings.csv', index_col=0)"
   ]
  },
  {
   "cell_type": "markdown",
   "metadata": {},
   "source": [
    "## Initial Data Cleaning/Engineering and EDA\n",
    "- Total Observations: 17880 rows\n",
    "- Total Features: 16 columns\n",
    "- Target Variable: 'fraudulent', 0 is real, 1 is false\n",
    "    - 0: 17014\n",
    "    - 1: 866\n",
    "- Features to drop:\n",
    "    - 'title': No standardization of naming job titles, >1000 different titles\n",
    "- Categorical Features: 'location', 'salary_range', 'telecommuting', 'has_company_logo', 'has_questions', 'employment_type', 'required_experience', 'required_education', 'industry', 'function'\n",
    "- NLP Features: 'company_profile', 'description', 'requirements', 'benefits'"
   ]
  },
  {
   "cell_type": "code",
   "execution_count": 3,
   "metadata": {
    "ExecuteTime": {
     "end_time": "2020-03-24T23:42:56.994982Z",
     "start_time": "2020-03-24T23:42:56.961291Z"
    }
   },
   "outputs": [
    {
     "name": "stdout",
     "output_type": "stream",
     "text": [
      "Total Observations: 17880\n",
      "Target Variable: fraudulent\n",
      "Classes: 2\n",
      "Imbalance: 0 - 17014, 1 - 866\n",
      "Imbalance Ratio: 0 - 95.16%, 1 - 4.84%\n",
      "\n",
      "No missing values: title, telecommuting, has_company_logo, has_questions, fraudulent\n",
      "\n",
      "Values Missing:\n",
      "---------------\n",
      "location: 346 (1.94%)\n",
      "department: 11547 (64.58%) ***\n",
      "salary_range: 15012 (83.96%) ***\n",
      "company_profile: 3308 (18.5%)\n",
      "description: 1 (0.01%)\n",
      "requirements: 2695 (15.07%)\n",
      "benefits: 7210 (40.32%) ***\n",
      "employment_type: 3471 (19.41%)\n",
      "required_experience: 7050 (39.43%) ***\n",
      "required_education: 8105 (45.33%) ***\n",
      "industry: 4903 (27.42%) ***\n",
      "function: 6455 (36.1%) ***\n"
     ]
    }
   ],
   "source": [
    "df_info(df, 'fraudulent')"
   ]
  },
  {
   "cell_type": "code",
   "execution_count": 4,
   "metadata": {
    "ExecuteTime": {
     "end_time": "2020-03-24T23:43:08.288889Z",
     "start_time": "2020-03-24T23:43:08.279814Z"
    }
   },
   "outputs": [],
   "source": [
    "# Drop 'title'\n",
    "df.drop(columns=['title'], inplace=True)"
   ]
  },
  {
   "cell_type": "markdown",
   "metadata": {},
   "source": [
    "### Narrow down to US job postings"
   ]
  },
  {
   "cell_type": "code",
   "execution_count": 6,
   "metadata": {
    "ExecuteTime": {
     "end_time": "2020-03-24T23:43:26.831365Z",
     "start_time": "2020-03-24T23:43:26.818782Z"
    }
   },
   "outputs": [],
   "source": [
    "# Only keeping US job postings\n",
    "df = df.loc[df['location'].str[:2] == 'US']"
   ]
  },
  {
   "cell_type": "markdown",
   "metadata": {},
   "source": [
    "### Run Chi-squared tests on features with missing values\n",
    "- Null Hypotheses: The proportions of false job reportings for null feature values and a non-null feature values are equal"
   ]
  },
  {
   "cell_type": "code",
   "execution_count": 7,
   "metadata": {
    "ExecuteTime": {
     "end_time": "2020-03-24T23:43:43.590044Z",
     "start_time": "2020-03-24T23:43:43.572182Z"
    }
   },
   "outputs": [
    {
     "name": "stdout",
     "output_type": "stream",
     "text": [
      "Reject Null Hypothesis\n",
      "Chi-Squared: 66.3287\n",
      "p-value: 0.0\n"
     ]
    }
   ],
   "source": [
    "chi_sq(df, feature='department', target='fraudulent')"
   ]
  },
  {
   "cell_type": "code",
   "execution_count": 8,
   "metadata": {
    "ExecuteTime": {
     "end_time": "2020-03-24T23:43:44.078812Z",
     "start_time": "2020-03-24T23:43:44.060911Z"
    }
   },
   "outputs": [
    {
     "name": "stdout",
     "output_type": "stream",
     "text": [
      "Reject Null Hypothesis\n",
      "Chi-Squared: 12.3865\n",
      "p-value: 0.002\n"
     ]
    }
   ],
   "source": [
    "chi_sq(df, feature='required_education', target='fraudulent')"
   ]
  },
  {
   "cell_type": "code",
   "execution_count": 9,
   "metadata": {
    "ExecuteTime": {
     "end_time": "2020-03-24T23:43:44.456252Z",
     "start_time": "2020-03-24T23:43:44.437131Z"
    }
   },
   "outputs": [
    {
     "name": "stdout",
     "output_type": "stream",
     "text": [
      "Reject Null Hypothesis\n",
      "Chi-Squared: 16.2374\n",
      "p-value: 0.0003\n"
     ]
    }
   ],
   "source": [
    "chi_sq(df, feature='required_experience', target='fraudulent')"
   ]
  },
  {
   "cell_type": "code",
   "execution_count": 10,
   "metadata": {
    "ExecuteTime": {
     "end_time": "2020-03-24T23:43:44.840167Z",
     "start_time": "2020-03-24T23:43:44.821191Z"
    }
   },
   "outputs": [
    {
     "name": "stdout",
     "output_type": "stream",
     "text": [
      "Cannot Reject Null Hypothesis\n",
      "Chi-Squared: 1.8199\n",
      "p-value: 0.4025\n"
     ]
    }
   ],
   "source": [
    "chi_sq(df, feature='industry', target='fraudulent')"
   ]
  },
  {
   "cell_type": "code",
   "execution_count": 11,
   "metadata": {
    "ExecuteTime": {
     "end_time": "2020-03-24T23:43:45.256024Z",
     "start_time": "2020-03-24T23:43:45.237229Z"
    }
   },
   "outputs": [
    {
     "name": "stdout",
     "output_type": "stream",
     "text": [
      "Cannot Reject Null Hypothesis\n",
      "Chi-Squared: 2.914\n",
      "p-value: 0.2329\n"
     ]
    }
   ],
   "source": [
    "chi_sq(df, feature='function', target='fraudulent')"
   ]
  },
  {
   "cell_type": "code",
   "execution_count": 12,
   "metadata": {
    "ExecuteTime": {
     "end_time": "2020-03-24T23:43:47.432662Z",
     "start_time": "2020-03-24T23:43:47.413218Z"
    }
   },
   "outputs": [
    {
     "name": "stdout",
     "output_type": "stream",
     "text": [
      "Reject Null Hypothesis\n",
      "Chi-Squared: 48.2519\n",
      "p-value: 0.0\n"
     ]
    }
   ],
   "source": [
    "chi_sq(df, feature='employment_type', target='fraudulent')"
   ]
  },
  {
   "cell_type": "code",
   "execution_count": 13,
   "metadata": {
    "ExecuteTime": {
     "end_time": "2020-03-24T23:43:47.855755Z",
     "start_time": "2020-03-24T23:43:47.837266Z"
    }
   },
   "outputs": [
    {
     "name": "stdout",
     "output_type": "stream",
     "text": [
      "Reject Null Hypothesis\n",
      "Chi-Squared: 65.1333\n",
      "p-value: 0.0\n"
     ]
    }
   ],
   "source": [
    "chi_sq(df, feature='salary_range', target='fraudulent')"
   ]
  },
  {
   "cell_type": "markdown",
   "metadata": {
    "ExecuteTime": {
     "end_time": "2020-03-24T00:53:31.071240Z",
     "start_time": "2020-03-24T00:53:31.047924Z"
    }
   },
   "source": [
    "### Salary range feature\n",
    "- Ratio of fake to real job postings is much greater in postings that include salary range\n",
    "- Convert feature to whether or not salary is posted"
   ]
  },
  {
   "cell_type": "code",
   "execution_count": 14,
   "metadata": {
    "ExecuteTime": {
     "end_time": "2020-03-24T23:43:58.090937Z",
     "start_time": "2020-03-24T23:43:58.076585Z"
    }
   },
   "outputs": [
    {
     "data": {
      "text/plain": [
       "0    0.939664\n",
       "1    0.060336\n",
       "Name: fraudulent, dtype: float64"
      ]
     },
     "execution_count": 14,
     "metadata": {},
     "output_type": "execute_result"
    }
   ],
   "source": [
    "# No salary range in posting\n",
    "df.loc[df['salary_range'].isna() == True]['fraudulent'].value_counts(normalize=True)"
   ]
  },
  {
   "cell_type": "code",
   "execution_count": 15,
   "metadata": {
    "ExecuteTime": {
     "end_time": "2020-03-24T23:43:58.558095Z",
     "start_time": "2020-03-24T23:43:58.546827Z"
    }
   },
   "outputs": [
    {
     "data": {
      "text/plain": [
       "0    0.883751\n",
       "1    0.116249\n",
       "Name: fraudulent, dtype: float64"
      ]
     },
     "execution_count": 15,
     "metadata": {},
     "output_type": "execute_result"
    }
   ],
   "source": [
    "# Salary range in posting\n",
    "df.loc[df['salary_range'].isna() == False]['fraudulent'].value_counts(normalize=True)"
   ]
  },
  {
   "cell_type": "code",
   "execution_count": 16,
   "metadata": {
    "ExecuteTime": {
     "end_time": "2020-03-24T23:44:01.143125Z",
     "start_time": "2020-03-24T23:44:01.132672Z"
    }
   },
   "outputs": [],
   "source": [
    "# Create salary dummy\n",
    "df['salary'] = np.where(df['salary_range'].isna() == True, 0, 1)\n",
    "df.drop(columns='salary_range', inplace=True)"
   ]
  },
  {
   "cell_type": "markdown",
   "metadata": {},
   "source": [
    "### Department feature"
   ]
  },
  {
   "cell_type": "code",
   "execution_count": 17,
   "metadata": {
    "ExecuteTime": {
     "end_time": "2020-03-24T23:44:04.264710Z",
     "start_time": "2020-03-24T23:44:04.252368Z"
    }
   },
   "outputs": [
    {
     "data": {
      "text/plain": [
       "0    0.94408\n",
       "1    0.05592\n",
       "Name: fraudulent, dtype: float64"
      ]
     },
     "execution_count": 17,
     "metadata": {},
     "output_type": "execute_result"
    }
   ],
   "source": [
    "# No department posting\n",
    "df.loc[df['department'].isna() == True]['fraudulent'].value_counts(normalize=True)"
   ]
  },
  {
   "cell_type": "code",
   "execution_count": 18,
   "metadata": {
    "ExecuteTime": {
     "end_time": "2020-03-24T23:44:04.729336Z",
     "start_time": "2020-03-24T23:44:04.716850Z"
    }
   },
   "outputs": [
    {
     "data": {
      "text/plain": [
       "0    0.899934\n",
       "1    0.100066\n",
       "Name: fraudulent, dtype: float64"
      ]
     },
     "execution_count": 18,
     "metadata": {},
     "output_type": "execute_result"
    }
   ],
   "source": [
    "# Department posting\n",
    "df.loc[df['department'].isna() == False]['fraudulent'].value_counts(normalize=True)"
   ]
  },
  {
   "cell_type": "code",
   "execution_count": 19,
   "metadata": {
    "ExecuteTime": {
     "end_time": "2020-03-24T23:44:05.182111Z",
     "start_time": "2020-03-24T23:44:05.170486Z"
    }
   },
   "outputs": [
    {
     "data": {
      "text/plain": [
       "0    0.893303\n",
       "1    0.106697\n",
       "Name: fraudulent, dtype: float64"
      ]
     },
     "execution_count": 19,
     "metadata": {},
     "output_type": "execute_result"
    }
   ],
   "source": [
    "# No employment type posting\n",
    "df.loc[df['employment_type'].isna() == True]['fraudulent'].value_counts(normalize=True)"
   ]
  },
  {
   "cell_type": "code",
   "execution_count": 20,
   "metadata": {
    "ExecuteTime": {
     "end_time": "2020-03-24T23:44:05.648483Z",
     "start_time": "2020-03-24T23:44:05.635719Z"
    }
   },
   "outputs": [
    {
     "data": {
      "text/plain": [
       "0    0.93906\n",
       "1    0.06094\n",
       "Name: fraudulent, dtype: float64"
      ]
     },
     "execution_count": 20,
     "metadata": {},
     "output_type": "execute_result"
    }
   ],
   "source": [
    "# Employment type posting\n",
    "df.loc[df['employment_type'].isna() == False]['fraudulent'].value_counts(normalize=True)"
   ]
  },
  {
   "cell_type": "code",
   "execution_count": null,
   "metadata": {},
   "outputs": [],
   "source": []
  },
  {
   "cell_type": "markdown",
   "metadata": {},
   "source": [
    "### Clean location feature\n",
    "- Replace with state dummies"
   ]
  },
  {
   "cell_type": "code",
   "execution_count": null,
   "metadata": {
    "ExecuteTime": {
     "end_time": "2020-03-24T23:18:07.198206Z",
     "start_time": "2020-03-24T23:18:07.139083Z"
    }
   },
   "outputs": [],
   "source": [
    "# Create 'state' feature, if no state exists then 'no state'\n",
    "condition = df['location'].str.extract(r'([A-Z]{2}(?<!US))').notnull()\n",
    "value = df['location'].str.extract(r'([A-Z]{2}(?<!US))')\n",
    "df['state'] = np.where(condition, value, 'No State')\n",
    "df['state'] = np.where((df['state'] == 'AU') | (df['state'] == 'LO'), 'No State', df['state'])\n",
    "df.drop(columns='location', inplace=True)"
   ]
  },
  {
   "cell_type": "code",
   "execution_count": null,
   "metadata": {
    "ExecuteTime": {
     "end_time": "2020-03-24T23:18:08.929011Z",
     "start_time": "2020-03-24T23:18:08.908054Z"
    }
   },
   "outputs": [],
   "source": [
    "# Categorize, dummy, then drop 'state'\n",
    "df['state'] = df['state'].astype('category')\n",
    "df = pd.concat([df, pd.get_dummies(df['state'])], axis=1)\n",
    "df.drop(columns='state', inplace=True)"
   ]
  }
 ],
 "metadata": {
  "kernelspec": {
   "display_name": "Python 3",
   "language": "python",
   "name": "python3"
  },
  "language_info": {
   "codemirror_mode": {
    "name": "ipython",
    "version": 3
   },
   "file_extension": ".py",
   "mimetype": "text/x-python",
   "name": "python",
   "nbconvert_exporter": "python",
   "pygments_lexer": "ipython3",
   "version": "3.6.9"
  },
  "toc": {
   "base_numbering": 1,
   "nav_menu": {},
   "number_sections": true,
   "sideBar": true,
   "skip_h1_title": false,
   "title_cell": "Table of Contents",
   "title_sidebar": "Contents",
   "toc_cell": false,
   "toc_position": {},
   "toc_section_display": true,
   "toc_window_display": true
  }
 },
 "nbformat": 4,
 "nbformat_minor": 2
}
