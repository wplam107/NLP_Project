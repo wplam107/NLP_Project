{
 "cells": [
  {
   "cell_type": "markdown",
   "metadata": {},
   "source": [
    "# Job Posting Data Acquisition and EDA"
   ]
  },
  {
   "cell_type": "code",
   "execution_count": 14,
   "metadata": {
    "ExecuteTime": {
     "end_time": "2020-03-25T01:25:28.385402Z",
     "start_time": "2020-03-25T01:25:28.091448Z"
    }
   },
   "outputs": [],
   "source": [
    "import numpy as np\n",
    "import pandas as pd\n",
    "from sklearn.model_selection import train_test_split\n",
    "from sklearn.ensemble import RandomForestClassifier\n",
    "from sklearn.linear_model import LogisticRegression\n",
    "from sklearn import svm\n",
    "from sklearn.pipeline import Pipeline\n",
    "# from gensim.models import Word2Vec\n",
    "# from nltk import word_tokenize\n",
    "# import matplotlib.pyplot as plt\n",
    "# import seaborn as sns\n",
    "import re\n",
    "\n",
    "from dfunc import df_info\n",
    "from dfunc import chi_sq\n",
    "from dfunc import feat_to_dum\n",
    "\n",
    "np.random.seed(0)\n",
    "pd.set_option('display.max_columns', 300)"
   ]
  },
  {
   "cell_type": "code",
   "execution_count": 2,
   "metadata": {
    "ExecuteTime": {
     "end_time": "2020-03-25T01:18:54.069999Z",
     "start_time": "2020-03-25T01:18:53.592754Z"
    }
   },
   "outputs": [],
   "source": [
    "df = pd.read_csv('fake_job_postings.csv', index_col=0)"
   ]
  },
  {
   "cell_type": "markdown",
   "metadata": {},
   "source": [
    "## Initial Data Cleaning/Engineering and EDA\n",
    "- Total Observations: 17880 rows\n",
    "- Total Features: 16 columns\n",
    "- Target Variable: 'fraudulent', 0 is real, 1 is false\n",
    "    - 0: 17014\n",
    "    - 1: 866\n",
    "- Features to drop:\n",
    "    - 'title': No standardization of naming job titles, >1000 different titles\n",
    "- Categorical Features: 'location', 'salary_range', 'telecommuting', 'has_company_logo', 'has_questions', 'employment_type', 'required_experience', 'required_education', 'industry', 'function'\n",
    "- NLP Features: 'company_profile', 'description', 'requirements', 'benefits'"
   ]
  },
  {
   "cell_type": "code",
   "execution_count": null,
   "metadata": {
    "ExecuteTime": {
     "end_time": "2020-03-25T01:12:37.745080Z",
     "start_time": "2020-03-25T01:12:37.709660Z"
    }
   },
   "outputs": [],
   "source": [
    "df_info(df, 'fraudulent')"
   ]
  },
  {
   "cell_type": "code",
   "execution_count": 3,
   "metadata": {
    "ExecuteTime": {
     "end_time": "2020-03-25T01:18:57.898845Z",
     "start_time": "2020-03-25T01:18:57.888221Z"
    }
   },
   "outputs": [],
   "source": [
    "# Drop 'title'\n",
    "df.drop(columns=['title'], inplace=True)"
   ]
  },
  {
   "cell_type": "markdown",
   "metadata": {},
   "source": [
    "### Narrow down to US job postings"
   ]
  },
  {
   "cell_type": "code",
   "execution_count": 4,
   "metadata": {
    "ExecuteTime": {
     "end_time": "2020-03-25T01:18:59.952770Z",
     "start_time": "2020-03-25T01:18:59.936981Z"
    }
   },
   "outputs": [],
   "source": [
    "# Only keeping US job postings\n",
    "df = df.loc[df['location'].str[:2] == 'US']"
   ]
  },
  {
   "cell_type": "markdown",
   "metadata": {},
   "source": [
    "### Run Chi-squared tests on features with missing values\n",
    "- Null Hypotheses: The proportions of false job reportings for null feature values and a non-null feature values are equal\n",
    "- Drop 'function', too many categories, too many missing values, low chi-sq\n",
    "- Drop 'industry, too many categories, too many missing values, low chi-sq"
   ]
  },
  {
   "cell_type": "code",
   "execution_count": null,
   "metadata": {
    "ExecuteTime": {
     "end_time": "2020-03-25T01:12:45.434779Z",
     "start_time": "2020-03-25T01:12:45.415567Z"
    }
   },
   "outputs": [],
   "source": [
    "chi_sq(df, feature='department', target='fraudulent')"
   ]
  },
  {
   "cell_type": "code",
   "execution_count": null,
   "metadata": {
    "ExecuteTime": {
     "end_time": "2020-03-25T01:12:45.736407Z",
     "start_time": "2020-03-25T01:12:45.718365Z"
    }
   },
   "outputs": [],
   "source": [
    "chi_sq(df, feature='required_education', target='fraudulent')"
   ]
  },
  {
   "cell_type": "code",
   "execution_count": null,
   "metadata": {
    "ExecuteTime": {
     "end_time": "2020-03-25T01:12:46.000431Z",
     "start_time": "2020-03-25T01:12:45.981622Z"
    }
   },
   "outputs": [],
   "source": [
    "chi_sq(df, feature='required_experience', target='fraudulent')"
   ]
  },
  {
   "cell_type": "code",
   "execution_count": null,
   "metadata": {
    "ExecuteTime": {
     "end_time": "2020-03-25T01:12:46.245010Z",
     "start_time": "2020-03-25T01:12:46.225602Z"
    }
   },
   "outputs": [],
   "source": [
    "chi_sq(df, feature='industry', target='fraudulent')"
   ]
  },
  {
   "cell_type": "code",
   "execution_count": null,
   "metadata": {
    "ExecuteTime": {
     "end_time": "2020-03-25T01:12:47.644303Z",
     "start_time": "2020-03-25T01:12:47.621332Z"
    }
   },
   "outputs": [],
   "source": [
    "chi_sq(df, feature='function', target='fraudulent')"
   ]
  },
  {
   "cell_type": "code",
   "execution_count": null,
   "metadata": {
    "ExecuteTime": {
     "end_time": "2020-03-25T01:12:47.840781Z",
     "start_time": "2020-03-25T01:12:47.820601Z"
    }
   },
   "outputs": [],
   "source": [
    "chi_sq(df, feature='employment_type', target='fraudulent')"
   ]
  },
  {
   "cell_type": "code",
   "execution_count": null,
   "metadata": {
    "ExecuteTime": {
     "end_time": "2020-03-25T01:12:48.113414Z",
     "start_time": "2020-03-25T01:12:48.094638Z"
    }
   },
   "outputs": [],
   "source": [
    "chi_sq(df, feature='salary_range', target='fraudulent')"
   ]
  },
  {
   "cell_type": "code",
   "execution_count": 5,
   "metadata": {
    "ExecuteTime": {
     "end_time": "2020-03-25T01:19:05.567918Z",
     "start_time": "2020-03-25T01:19:05.560249Z"
    }
   },
   "outputs": [],
   "source": [
    "# Drop columns\n",
    "df.drop(columns=['industry', 'function'], inplace=True)"
   ]
  },
  {
   "cell_type": "markdown",
   "metadata": {
    "ExecuteTime": {
     "end_time": "2020-03-24T00:53:31.071240Z",
     "start_time": "2020-03-24T00:53:31.047924Z"
    }
   },
   "source": [
    "### Salary range feature\n",
    "- Ratio of fake to real job postings is much greater in postings that include salary range\n",
    "- Convert feature to whether or not salary is posted"
   ]
  },
  {
   "cell_type": "code",
   "execution_count": 6,
   "metadata": {
    "ExecuteTime": {
     "end_time": "2020-03-25T01:19:19.743347Z",
     "start_time": "2020-03-25T01:19:19.735841Z"
    }
   },
   "outputs": [],
   "source": [
    "# Create salary dummy\n",
    "df['salary_range'] = np.where(df['salary_range'].isna() == True, 0, 1)"
   ]
  },
  {
   "cell_type": "markdown",
   "metadata": {},
   "source": [
    "### Clean location feature\n",
    "- Replace with state dummies"
   ]
  },
  {
   "cell_type": "code",
   "execution_count": 7,
   "metadata": {
    "ExecuteTime": {
     "end_time": "2020-03-25T01:19:24.751601Z",
     "start_time": "2020-03-25T01:19:24.679609Z"
    }
   },
   "outputs": [],
   "source": [
    "# Create 'state' feature, if no state exists then 'no state'\n",
    "condition = df['location'].str.extract(r'([A-Z]{2}(?<!US))').notnull()\n",
    "value = df['location'].str.extract(r'([A-Z]{2}(?<!US))')\n",
    "df['state'] = np.where(condition, value, 'No State')\n",
    "df['state'] = np.where((df['state'] == 'AU') | (df['state'] == 'LO'), 'No State', df['state'])\n",
    "df.drop(columns='location', inplace=True)"
   ]
  },
  {
   "cell_type": "code",
   "execution_count": 8,
   "metadata": {
    "ExecuteTime": {
     "end_time": "2020-03-25T01:19:25.393284Z",
     "start_time": "2020-03-25T01:19:25.367480Z"
    }
   },
   "outputs": [
    {
     "name": "stdout",
     "output_type": "stream",
     "text": [
      "Feature Dummied and Dropped: state\n"
     ]
    }
   ],
   "source": [
    "df = feat_to_dum(df, 'state', s_value='Unspecified', pref=None)"
   ]
  },
  {
   "cell_type": "markdown",
   "metadata": {},
   "source": [
    "### Department feature\n",
    "- Convert to dummy, too many different categories with no standardization"
   ]
  },
  {
   "cell_type": "code",
   "execution_count": 9,
   "metadata": {
    "ExecuteTime": {
     "end_time": "2020-03-25T01:19:29.349895Z",
     "start_time": "2020-03-25T01:19:29.343065Z"
    }
   },
   "outputs": [],
   "source": [
    "# Convert department to dummy\n",
    "df['department'] = np.where(df['department'].isna() == True, 0, 1)"
   ]
  },
  {
   "cell_type": "markdown",
   "metadata": {},
   "source": [
    "### Remaining features\n",
    "- Create 'Unspecified' category for Nan values, dummy, the drop column"
   ]
  },
  {
   "cell_type": "code",
   "execution_count": 10,
   "metadata": {
    "ExecuteTime": {
     "end_time": "2020-03-25T01:19:40.775683Z",
     "start_time": "2020-03-25T01:19:40.753338Z"
    }
   },
   "outputs": [
    {
     "name": "stdout",
     "output_type": "stream",
     "text": [
      "Feature Dummied and Dropped: employment_type\n"
     ]
    }
   ],
   "source": [
    "df = feat_to_dum(df, 'employment_type', s_value='Unspecified', pref='et')"
   ]
  },
  {
   "cell_type": "code",
   "execution_count": 11,
   "metadata": {
    "ExecuteTime": {
     "end_time": "2020-03-25T01:19:45.764013Z",
     "start_time": "2020-03-25T01:19:45.744483Z"
    }
   },
   "outputs": [
    {
     "name": "stdout",
     "output_type": "stream",
     "text": [
      "Feature Dummied and Dropped: required_experience\n"
     ]
    }
   ],
   "source": [
    "df = feat_to_dum(df, 'required_experience', s_value='Unspecified', pref='rex')"
   ]
  },
  {
   "cell_type": "code",
   "execution_count": 12,
   "metadata": {
    "ExecuteTime": {
     "end_time": "2020-03-25T01:19:46.516414Z",
     "start_time": "2020-03-25T01:19:46.497950Z"
    }
   },
   "outputs": [
    {
     "name": "stdout",
     "output_type": "stream",
     "text": [
      "Feature Dummied and Dropped: required_education\n"
     ]
    }
   ],
   "source": [
    "df = feat_to_dum(df, 'required_education', s_value='Unspecified', pref='red')"
   ]
  },
  {
   "cell_type": "code",
   "execution_count": null,
   "metadata": {},
   "outputs": [],
   "source": []
  }
 ],
 "metadata": {
  "kernelspec": {
   "display_name": "Python 3",
   "language": "python",
   "name": "python3"
  },
  "language_info": {
   "codemirror_mode": {
    "name": "ipython",
    "version": 3
   },
   "file_extension": ".py",
   "mimetype": "text/x-python",
   "name": "python",
   "nbconvert_exporter": "python",
   "pygments_lexer": "ipython3",
   "version": "3.6.9"
  },
  "toc": {
   "base_numbering": 1,
   "nav_menu": {},
   "number_sections": true,
   "sideBar": true,
   "skip_h1_title": false,
   "title_cell": "Table of Contents",
   "title_sidebar": "Contents",
   "toc_cell": false,
   "toc_position": {},
   "toc_section_display": true,
   "toc_window_display": true
  }
 },
 "nbformat": 4,
 "nbformat_minor": 2
}
