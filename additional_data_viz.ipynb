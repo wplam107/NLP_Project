{
 "cells": [
  {
   "cell_type": "code",
   "execution_count": 1,
   "metadata": {
    "ExecuteTime": {
     "end_time": "2020-03-27T00:43:35.080174Z",
     "start_time": "2020-03-27T00:43:31.834843Z"
    }
   },
   "outputs": [],
   "source": [
    "import numpy as np\n",
    "import pandas as pd\n",
    "import matplotlib.pyplot as plt\n",
    "import seaborn as sns\n",
    "\n",
    "from dfunc import feat_to_dum\n",
    "\n",
    "pd.set_option('display.max_columns', 300)"
   ]
  },
  {
   "cell_type": "code",
   "execution_count": 2,
   "metadata": {
    "ExecuteTime": {
     "end_time": "2020-03-27T00:43:37.232107Z",
     "start_time": "2020-03-27T00:43:36.763247Z"
    }
   },
   "outputs": [],
   "source": [
    "df = pd.read_csv('fake_job_postings.csv')"
   ]
  },
  {
   "cell_type": "code",
   "execution_count": 4,
   "metadata": {
    "ExecuteTime": {
     "end_time": "2020-03-27T00:43:42.667651Z",
     "start_time": "2020-03-27T00:43:42.644374Z"
    }
   },
   "outputs": [],
   "source": [
    "df = df.loc[df['location'].str[:2] == 'US']"
   ]
  },
  {
   "cell_type": "code",
   "execution_count": 5,
   "metadata": {
    "ExecuteTime": {
     "end_time": "2020-03-27T00:44:04.803728Z",
     "start_time": "2020-03-27T00:44:04.788118Z"
    }
   },
   "outputs": [],
   "source": [
    "# Drop unused columns\n",
    "df.drop(columns=['industry', 'function', 'requirements', 'benefits'], inplace=True)\n",
    "df.drop(columns=['title'], inplace=True)\n",
    "df.drop(columns=['job_id'], inplace=True)\n",
    "df.drop(columns=['description'], inplace=True)"
   ]
  },
  {
   "cell_type": "code",
   "execution_count": 6,
   "metadata": {
    "ExecuteTime": {
     "end_time": "2020-03-27T00:44:06.725856Z",
     "start_time": "2020-03-27T00:44:06.665885Z"
    }
   },
   "outputs": [
    {
     "name": "stdout",
     "output_type": "stream",
     "text": [
      "Feature Dummied and Dropped: employment_type\n",
      "Feature Dummied and Dropped: required_experience\n",
      "Feature Dummied and Dropped: required_education\n"
     ]
    }
   ],
   "source": [
    "# Dummy/one-hot encode proper columns\n",
    "df['salary_range'] = np.where(df['salary_range'].isna() == True, 0, 1)\n",
    "df['department'] = np.where(df['department'].isna() == True, 0, 1)\n",
    "df['company_profile'] = np.where(df['company_profile'].isna() == True, 0, 1)\n",
    "df = feat_to_dum(df, 'employment_type', s_value='Unspecified', pref='et')\n",
    "df = feat_to_dum(df, 'required_experience', s_value='Unspecified', pref='rex')\n",
    "df = feat_to_dum(df, 'required_education', s_value='Unspecified', pref='red')"
   ]
  },
  {
   "cell_type": "code",
   "execution_count": 7,
   "metadata": {
    "ExecuteTime": {
     "end_time": "2020-03-27T00:44:09.714164Z",
     "start_time": "2020-03-27T00:44:09.657988Z"
    }
   },
   "outputs": [],
   "source": [
    "# Categorize states\n",
    "condition = df['location'].str.extract(r'([A-Z]{2}(?<!US))').notnull()\n",
    "value = df['location'].str.extract(r'([A-Z]{2}(?<!US))')\n",
    "df['state'] = np.where(condition, value, 'No State')\n",
    "df['state'] = np.where((df['state'] == 'AU') | (df['state'] == 'LO'), 'No State', df['state'])\n",
    "df.drop(columns='location', inplace=True)"
   ]
  },
  {
   "cell_type": "code",
   "execution_count": 10,
   "metadata": {
    "ExecuteTime": {
     "end_time": "2020-03-27T00:44:30.628906Z",
     "start_time": "2020-03-27T00:44:30.624818Z"
    }
   },
   "outputs": [],
   "source": [
    "# Set style of plots\n",
    "plt.style.use('seaborn-deep')"
   ]
  },
  {
   "cell_type": "code",
   "execution_count": 11,
   "metadata": {
    "ExecuteTime": {
     "end_time": "2020-03-27T00:44:31.543442Z",
     "start_time": "2020-03-27T00:44:31.305707Z"
    },
    "scrolled": true
   },
   "outputs": [
    {
     "data": {
      "image/png": "[encoded data removed]",
      "text/plain": [
       "<Figure size 864x576 with 1 Axes>"
      ]
     },
     "metadata": {
      "needs_background": "light"
     },
     "output_type": "display_data"
    }
   ],
   "source": [
    "# Plot Fake posts with respect to Salary and department posting\n",
    "plt.figure(figsize=(12,8))\n",
    "sns.barplot(x='salary_range', y='fraudulent', hue='department', data=df, ci=None)\n",
    "plt.title('Percent of Fake Postings by Salary Posting and Department Posting', fontsize='large')\n",
    "plt.xticks(ticks=[0,1], labels=['No Salary Posted', 'Salary Posted'], fontsize='large')\n",
    "plt.yticks(fontsize='large')\n",
    "plt.xlabel(None)\n",
    "plt.ylabel('Ratio of Fake Job Postings', fontsize='large')\n",
    "plt.legend(['Not Posted', 'Posted'], loc=2, prop={'size': 15}, title='Department', fontsize='large')\n",
    "plt.show()"
   ]
  },
  {
   "cell_type": "code",
   "execution_count": null,
   "metadata": {},
   "outputs": [],
   "source": []
  }
 ],
 "metadata": {
  "kernelspec": {
   "display_name": "Python 3",
   "language": "python",
   "name": "python3"
  },
  "language_info": {
   "codemirror_mode": {
    "name": "ipython",
    "version": 3
   },
   "file_extension": ".py",
   "mimetype": "text/x-python",
   "name": "python",
   "nbconvert_exporter": "python",
   "pygments_lexer": "ipython3",
   "version": "3.6.9"
  },
  "toc": {
   "base_numbering": 1,
   "nav_menu": {},
   "number_sections": true,
   "sideBar": true,
   "skip_h1_title": false,
   "title_cell": "Table of Contents",
   "title_sidebar": "Contents",
   "toc_cell": false,
   "toc_position": {},
   "toc_section_display": true,
   "toc_window_display": false
  }
 },
 "nbformat": 4,
 "nbformat_minor": 2
}
