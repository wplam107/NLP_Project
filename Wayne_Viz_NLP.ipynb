{
 "cells": [
  {
   "cell_type": "code",
   "execution_count": 60,
   "metadata": {
    "ExecuteTime": {
     "end_time": "2020-03-27T03:33:43.392281Z",
     "start_time": "2020-03-27T03:33:43.366552Z"
    }
   },
   "outputs": [],
   "source": [
    "import numpy as np\n",
    "import pandas as pd\n",
    "import matplotlib.pyplot as plt\n",
    "import seaborn as sns\n",
    "import gensim\n",
    "import nltk\n",
    "from gensim.utils import simple_preprocess\n",
    "from nltk.corpus import stopwords\n",
    "from nltk.stem import WordNetLemmatizer, SnowballStemmer\n",
    "from nltk.stem.porter import *\n",
    "from sklearn.decomposition import LatentDirichletAllocation as LDA\n",
    "from nltk.sentiment.vader import SentimentIntensityAnalyzer\n",
    "from gensim import corpora, models\n",
    "from pprint import pprint\n",
    "\n",
    "from dfunc import lemmatize\n",
    "from dfunc import preprocess\n",
    "\n",
    "sns.set_style('whitegrid')\n",
    "%matplotlib inline"
   ]
  },
  {
   "cell_type": "code",
   "execution_count": 61,
   "metadata": {
    "ExecuteTime": {
     "end_time": "2020-03-27T03:33:44.745102Z",
     "start_time": "2020-03-27T03:33:44.116280Z"
    }
   },
   "outputs": [],
   "source": [
    "# Set DataFrame to only be 'descriptions' and 'fraudulent'\n",
    "df = pd.read_csv('fake_job_postings.csv')\n",
    "df = df.loc[df['location'].str[:2] == 'US']\n",
    "df = df[['description', 'fraudulent']]"
   ]
  },
  {
   "cell_type": "code",
   "execution_count": 62,
   "metadata": {
    "ExecuteTime": {
     "end_time": "2020-03-27T03:33:58.232978Z",
     "start_time": "2020-03-27T03:33:44.748167Z"
    }
   },
   "outputs": [],
   "source": [
    "# Preprocess 'description' feature and tokenize\n",
    "processed_des = df['description'].map(preprocess)"
   ]
  },
  {
   "cell_type": "code",
   "execution_count": 63,
   "metadata": {
    "ExecuteTime": {
     "end_time": "2020-03-27T03:33:59.816772Z",
     "start_time": "2020-03-27T03:33:58.235798Z"
    }
   },
   "outputs": [],
   "source": [
    "# Generate dictionary from tokens\n",
    "dictionary = gensim.corpora.Dictionary(processed_des)"
   ]
  },
  {
   "cell_type": "code",
   "execution_count": 64,
   "metadata": {
    "ExecuteTime": {
     "end_time": "2020-03-27T03:33:59.887375Z",
     "start_time": "2020-03-27T03:33:59.819402Z"
    }
   },
   "outputs": [],
   "source": [
    "# Filter out extremely common and uncommon words\n",
    "dictionary.filter_extremes(no_below=15, no_above=0.5, keep_n=100000)"
   ]
  },
  {
   "cell_type": "code",
   "execution_count": 65,
   "metadata": {
    "ExecuteTime": {
     "end_time": "2020-03-27T03:34:00.903604Z",
     "start_time": "2020-03-27T03:33:59.890177Z"
    }
   },
   "outputs": [],
   "source": [
    "# Create bag of words for each description\n",
    "bow_corpus = [dictionary.doc2bow(doc) for doc in processed_des]"
   ]
  },
  {
   "cell_type": "code",
   "execution_count": 76,
   "metadata": {
    "ExecuteTime": {
     "end_time": "2020-03-27T03:58:05.374863Z",
     "start_time": "2020-03-27T03:58:05.367429Z"
    },
    "scrolled": true
   },
   "outputs": [
    {
     "data": {
      "text/plain": [
       "[(19, 2),\n",
       " (47, 1),\n",
       " (70, 1),\n",
       " (76, 1),\n",
       " (77, 1),\n",
       " (135, 1),\n",
       " (283, 1),\n",
       " (375, 1),\n",
       " (427, 1),\n",
       " (445, 1),\n",
       " (461, 1),\n",
       " (463, 2),\n",
       " (467, 1),\n",
       " (480, 1),\n",
       " (542, 1),\n",
       " (550, 2),\n",
       " (555, 1),\n",
       " (624, 1),\n",
       " (630, 1),\n",
       " (634, 1),\n",
       " (639, 1),\n",
       " (640, 1),\n",
       " (675, 2),\n",
       " (677, 1),\n",
       " (693, 1),\n",
       " (709, 2),\n",
       " (710, 1),\n",
       " (711, 1),\n",
       " (712, 2),\n",
       " (713, 2),\n",
       " (714, 1),\n",
       " (715, 1),\n",
       " (716, 1),\n",
       " (717, 2),\n",
       " (718, 1),\n",
       " (719, 1),\n",
       " (720, 1),\n",
       " (721, 2),\n",
       " (722, 1),\n",
       " (723, 1),\n",
       " (724, 2),\n",
       " (725, 1),\n",
       " (726, 1),\n",
       " (727, 1),\n",
       " (728, 1),\n",
       " (729, 1),\n",
       " (730, 1),\n",
       " (731, 1),\n",
       " (732, 1),\n",
       " (733, 1),\n",
       " (734, 1),\n",
       " (735, 1),\n",
       " (736, 1)]"
      ]
     },
     "execution_count": 76,
     "metadata": {},
     "output_type": "execute_result"
    }
   ],
   "source": [
    "bow_corpus[10]"
   ]
  },
  {
   "cell_type": "code",
   "execution_count": 66,
   "metadata": {
    "ExecuteTime": {
     "end_time": "2020-03-27T03:34:01.120123Z",
     "start_time": "2020-03-27T03:34:00.905910Z"
    },
    "scrolled": true
   },
   "outputs": [],
   "source": [
    "# Instantiate TfidfModel transform bag of words\n",
    "tfidf = models.TfidfModel(bow_corpus)\n",
    "corpus_tfidf = tfidf[bow_corpus]"
   ]
  },
  {
   "cell_type": "code",
   "execution_count": 77,
   "metadata": {
    "ExecuteTime": {
     "end_time": "2020-03-27T14:07:57.154490Z",
     "start_time": "2020-03-27T14:07:57.097340Z"
    },
    "scrolled": true
   },
   "outputs": [
    {
     "data": {
      "text/plain": [
       "10656"
      ]
     },
     "execution_count": 77,
     "metadata": {},
     "output_type": "execute_result"
    }
   ],
   "source": [
    "len(corpus_tfidf)"
   ]
  },
  {
   "cell_type": "code",
   "execution_count": 78,
   "metadata": {
    "ExecuteTime": {
     "end_time": "2020-03-27T14:08:30.441136Z",
     "start_time": "2020-03-27T14:08:08.814338Z"
    }
   },
   "outputs": [],
   "source": [
    "# Create LDAMulticore model with bag of words\n",
    "lda_model = gensim.models.LdaMulticore(bow_corpus,\n",
    "                                       num_topics=2,\n",
    "                                       id2word=dictionary,\n",
    "                                       passes=2,\n",
    "                                       workers=2)"
   ]
  },
  {
   "cell_type": "code",
   "execution_count": null,
   "metadata": {},
   "outputs": [],
   "source": [
    "lda_model(gensim)"
   ]
  }
 ],
 "metadata": {
  "kernelspec": {
   "display_name": "Python 3",
   "language": "python",
   "name": "python3"
  },
  "language_info": {
   "codemirror_mode": {
    "name": "ipython",
    "version": 3
   },
   "file_extension": ".py",
   "mimetype": "text/x-python",
   "name": "python",
   "nbconvert_exporter": "python",
   "pygments_lexer": "ipython3",
   "version": "3.6.9"
  },
  "toc": {
   "base_numbering": 1,
   "nav_menu": {},
   "number_sections": true,
   "sideBar": true,
   "skip_h1_title": false,
   "title_cell": "Table of Contents",
   "title_sidebar": "Contents",
   "toc_cell": false,
   "toc_position": {},
   "toc_section_display": true,
   "toc_window_display": false
  }
 },
 "nbformat": 4,
 "nbformat_minor": 2
}
