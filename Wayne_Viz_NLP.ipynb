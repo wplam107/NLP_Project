{
 "cells": [
  {
   "cell_type": "code",
   "execution_count": 60,
   "metadata": {
    "ExecuteTime": {
     "end_time": "2020-03-27T03:33:43.392281Z",
     "start_time": "2020-03-27T03:33:43.366552Z"
    }
   },
   "outputs": [],
   "source": [
    "import numpy as np\n",
    "import pandas as pd\n",
    "import matplotlib.pyplot as plt\n",
    "import seaborn as sns\n",
    "import gensim\n",
    "import nltk\n",
    "from gensim.utils import simple_preprocess\n",
    "from nltk.corpus import stopwords\n",
    "from nltk.stem import WordNetLemmatizer, SnowballStemmer\n",
    "from nltk.stem.porter import *\n",
    "from sklearn.decomposition import LatentDirichletAllocation as LDA\n",
    "from nltk.sentiment.vader import SentimentIntensityAnalyzer\n",
    "from gensim import corpora, models\n",
    "from pprint import pprint\n",
    "\n",
    "from dfunc import lemmatize\n",
    "from dfunc import preprocess\n",
    "\n",
    "sns.set_style('whitegrid')\n",
    "%matplotlib inline"
   ]
  },
  {
   "cell_type": "code",
   "execution_count": 61,
   "metadata": {
    "ExecuteTime": {
     "end_time": "2020-03-27T03:33:44.745102Z",
     "start_time": "2020-03-27T03:33:44.116280Z"
    }
   },
   "outputs": [],
   "source": [
    "# Set DataFrame to only be 'descriptions' and 'fraudulent'\n",
    "df = pd.read_csv('fake_job_postings.csv')\n",
    "df = df.loc[df['location'].str[:2] == 'US']\n",
    "df = df[['description', 'fraudulent']]"
   ]
  },
  {
   "cell_type": "code",
   "execution_count": 62,
   "metadata": {
    "ExecuteTime": {
     "end_time": "2020-03-27T03:33:58.232978Z",
     "start_time": "2020-03-27T03:33:44.748167Z"
    }
   },
   "outputs": [],
   "source": [
    "# Preprocess 'description' feature and tokenize\n",
    "processed_des = df['description'].map(preprocess)"
   ]
  },
  {
   "cell_type": "code",
   "execution_count": 63,
   "metadata": {
    "ExecuteTime": {
     "end_time": "2020-03-27T03:33:59.816772Z",
     "start_time": "2020-03-27T03:33:58.235798Z"
    }
   },
   "outputs": [],
   "source": [
    "# Generate dictionary from tokens\n",
    "dictionary = gensim.corpora.Dictionary(processed_des)"
   ]
  },
  {
   "cell_type": "code",
   "execution_count": 64,
   "metadata": {
    "ExecuteTime": {
     "end_time": "2020-03-27T03:33:59.887375Z",
     "start_time": "2020-03-27T03:33:59.819402Z"
    }
   },
   "outputs": [],
   "source": [
    "# Filter out extremely common and uncommon words\n",
    "dictionary.filter_extremes(no_below=15, no_above=0.5, keep_n=100000)"
   ]
  },
  {
   "cell_type": "code",
   "execution_count": 65,
   "metadata": {
    "ExecuteTime": {
     "end_time": "2020-03-27T03:34:00.903604Z",
     "start_time": "2020-03-27T03:33:59.890177Z"
    }
   },
   "outputs": [],
   "source": [
    "# Create bag of words for each description\n",
    "bow_corpus = [dictionary.doc2bow(doc) for doc in processed_des]"
   ]
  },
  {
   "cell_type": "code",
   "execution_count": 76,
   "metadata": {
    "ExecuteTime": {
     "end_time": "2020-03-27T03:58:05.374863Z",
     "start_time": "2020-03-27T03:58:05.367429Z"
    }
   },
   "outputs": [
    {
     "data": {
      "text/plain": [
       "[(19, 2),\n",
       " (47, 1),\n",
       " (70, 1),\n",
       " (76, 1),\n",
       " (77, 1),\n",
       " (135, 1),\n",
       " (283, 1),\n",
       " (375, 1),\n",
       " (427, 1),\n",
       " (445, 1),\n",
       " (461, 1),\n",
       " (463, 2),\n",
       " (467, 1),\n",
       " (480, 1),\n",
       " (542, 1),\n",
       " (550, 2),\n",
       " (555, 1),\n",
       " (624, 1),\n",
       " (630, 1),\n",
       " (634, 1),\n",
       " (639, 1),\n",
       " (640, 1),\n",
       " (675, 2),\n",
       " (677, 1),\n",
       " (693, 1),\n",
       " (709, 2),\n",
       " (710, 1),\n",
       " (711, 1),\n",
       " (712, 2),\n",
       " (713, 2),\n",
       " (714, 1),\n",
       " (715, 1),\n",
       " (716, 1),\n",
       " (717, 2),\n",
       " (718, 1),\n",
       " (719, 1),\n",
       " (720, 1),\n",
       " (721, 2),\n",
       " (722, 1),\n",
       " (723, 1),\n",
       " (724, 2),\n",
       " (725, 1),\n",
       " (726, 1),\n",
       " (727, 1),\n",
       " (728, 1),\n",
       " (729, 1),\n",
       " (730, 1),\n",
       " (731, 1),\n",
       " (732, 1),\n",
       " (733, 1),\n",
       " (734, 1),\n",
       " (735, 1),\n",
       " (736, 1)]"
      ]
     },
     "execution_count": 76,
     "metadata": {},
     "output_type": "execute_result"
    }
   ],
   "source": [
    "bow_corpus[10]"
   ]
  },
  {
   "cell_type": "code",
   "execution_count": 66,
   "metadata": {
    "ExecuteTime": {
     "end_time": "2020-03-27T03:34:01.120123Z",
     "start_time": "2020-03-27T03:34:00.905910Z"
    },
    "scrolled": true
   },
   "outputs": [],
   "source": [
    "# Instantiate TfidfModel and transform bag of words\n",
    "tfidf = models.TfidfModel(bow_corpus)\n",
    "corpus_tfidf = tfidf[bow_corpus]"
   ]
  },
  {
   "cell_type": "code",
   "execution_count": 73,
   "metadata": {
    "ExecuteTime": {
     "end_time": "2020-03-27T03:57:22.436736Z",
     "start_time": "2020-03-27T03:57:22.426742Z"
    }
   },
   "outputs": [
    {
     "data": {
      "text/plain": [
       "[(0, 0.0829669716282516),\n",
       " (1, 0.577344689349353),\n",
       " (2, 0.05040693248424424),\n",
       " (3, 0.09713113465660053),\n",
       " (4, 0.10759131466018691),\n",
       " (5, 0.13903840458916264),\n",
       " (6, 0.08480890963439518),\n",
       " (7, 0.07404303918097747),\n",
       " (8, 0.15042943778028478),\n",
       " (9, 0.16574497812035438),\n",
       " (10, 0.14263233563606934),\n",
       " (11, 0.06294590841563445),\n",
       " (12, 0.17048647407264067),\n",
       " (13, 0.06265182601771495),\n",
       " (14, 0.16445690286068715),\n",
       " (15, 0.0804507537246992),\n",
       " (16, 0.0811914922618119),\n",
       " (17, 0.10172944438029373),\n",
       " (18, 0.061532670617842164),\n",
       " (19, 0.05889165019531335),\n",
       " (20, 0.07143396045036507),\n",
       " (21, 0.38391575382633975),\n",
       " (22, 0.041734993416117916),\n",
       " (23, 0.10788465441048817),\n",
       " (24, 0.10316981825486221),\n",
       " (25, 0.1086325884521191),\n",
       " (26, 0.08097772343462079),\n",
       " (27, 0.16445690286068715),\n",
       " (28, 0.06875643671354088),\n",
       " (29, 0.03551137016706402),\n",
       " (30, 0.041104543897128074),\n",
       " (31, 0.08444223282447973),\n",
       " (32, 0.0554183099503354),\n",
       " (33, 0.0707748339726415),\n",
       " (34, 0.064927209426889),\n",
       " (35, 0.08372381282271865),\n",
       " (36, 0.06486931399598042),\n",
       " (37, 0.05037351437103018),\n",
       " (38, 0.13587561626524536),\n",
       " (39, 0.17163603613778558),\n",
       " (40, 0.09864590798126167),\n",
       " (41, 0.09330093781408555),\n",
       " (42, 0.06387617087609203),\n",
       " (43, 0.07758585635729204),\n",
       " (44, 0.05547902359744025),\n",
       " (45, 0.134628125649872),\n",
       " (46, 0.03099449987522436),\n",
       " (47, 0.031018554825329597),\n",
       " (48, 0.1670991367835225),\n",
       " (49, 0.10715732725589099),\n",
       " (50, 0.09173540647723817),\n",
       " (51, 0.14950388905447348),\n",
       " (52, 0.08113788756133641)]"
      ]
     },
     "execution_count": 73,
     "metadata": {},
     "output_type": "execute_result"
    }
   ],
   "source": [
    "corpus_tfidf[0]"
   ]
  },
  {
   "cell_type": "code",
   "execution_count": 53,
   "metadata": {
    "ExecuteTime": {
     "end_time": "2020-03-26T22:23:05.365795Z",
     "start_time": "2020-03-26T22:22:45.576201Z"
    }
   },
   "outputs": [],
   "source": [
    "# Create LDAMulticore model with bag of words\n",
    "lda_model = gensim.models.LdaMulticore(bow_corpus,\n",
    "                                       num_topics=2,\n",
    "                                       id2word=dictionary,\n",
    "                                       passes=2,\n",
    "                                       workers=2)"
   ]
  }
 ],
 "metadata": {
  "kernelspec": {
   "display_name": "Python 3",
   "language": "python",
   "name": "python3"
  },
  "language_info": {
   "codemirror_mode": {
    "name": "ipython",
    "version": 3
   },
   "file_extension": ".py",
   "mimetype": "text/x-python",
   "name": "python",
   "nbconvert_exporter": "python",
   "pygments_lexer": "ipython3",
   "version": "3.6.9"
  },
  "toc": {
   "base_numbering": 1,
   "nav_menu": {},
   "number_sections": true,
   "sideBar": true,
   "skip_h1_title": false,
   "title_cell": "Table of Contents",
   "title_sidebar": "Contents",
   "toc_cell": false,
   "toc_position": {},
   "toc_section_display": true,
   "toc_window_display": false
  }
 },
 "nbformat": 4,
 "nbformat_minor": 2
}
