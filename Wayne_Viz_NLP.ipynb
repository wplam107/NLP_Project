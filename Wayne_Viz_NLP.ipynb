{
 "cells": [
  {
   "cell_type": "code",
   "execution_count": 43,
   "metadata": {
    "ExecuteTime": {
     "end_time": "2020-03-26T22:13:50.644776Z",
     "start_time": "2020-03-26T22:13:50.625049Z"
    }
   },
   "outputs": [],
   "source": [
    "import numpy as np\n",
    "import pandas as pd\n",
    "import matplotlib.pyplot as plt\n",
    "import seaborn as sns\n",
    "import gensim\n",
    "import nltk\n",
    "from gensim.utils import simple_preprocess\n",
    "from nltk.corpus import stopwords\n",
    "from nltk.stem import WordNetLemmatizer, SnowballStemmer\n",
    "from nltk.stem.porter import *\n",
    "from sklearn.decomposition import LatentDirichletAllocation as LDA\n",
    "from nltk.sentiment.vader import SentimentIntensityAnalyzer\n",
    "from gensim import corpora, models\n",
    "from pprint import pprint\n",
    "\n",
    "from dfunc import lemmatize\n",
    "from dfunc import preprocess\n",
    "\n",
    "sns.set_style('whitegrid')\n",
    "%matplotlib inline"
   ]
  },
  {
   "cell_type": "code",
   "execution_count": 2,
   "metadata": {
    "ExecuteTime": {
     "end_time": "2020-03-26T21:52:07.200978Z",
     "start_time": "2020-03-26T21:52:06.713126Z"
    }
   },
   "outputs": [],
   "source": [
    "# Set DataFrame to only be 'descriptions' and 'fraudulent'\n",
    "df = pd.read_csv('fake_job_postings.csv')\n",
    "df = df.loc[df['location'].str[:2] == 'US']\n",
    "df = df[['description', 'fraudulent']]"
   ]
  },
  {
   "cell_type": "code",
   "execution_count": 16,
   "metadata": {
    "ExecuteTime": {
     "end_time": "2020-03-26T21:57:40.520360Z",
     "start_time": "2020-03-26T21:57:22.070038Z"
    }
   },
   "outputs": [],
   "source": [
    "# Preprocess 'description' feature and tokenize\n",
    "processed_des = df['description'].map(preprocess)"
   ]
  },
  {
   "cell_type": "code",
   "execution_count": 21,
   "metadata": {
    "ExecuteTime": {
     "end_time": "2020-03-26T21:59:32.598194Z",
     "start_time": "2020-03-26T21:59:31.281421Z"
    }
   },
   "outputs": [],
   "source": [
    "# Generate dictionary from tokens\n",
    "dictionary = gensim.corpora.Dictionary(processed_des)"
   ]
  },
  {
   "cell_type": "code",
   "execution_count": 23,
   "metadata": {
    "ExecuteTime": {
     "end_time": "2020-03-26T22:01:07.098129Z",
     "start_time": "2020-03-26T22:01:07.045764Z"
    }
   },
   "outputs": [],
   "source": [
    "# Filter out extremely common and uncommon words\n",
    "dictionary.filter_extremes(no_below=15, no_above=0.5, keep_n=100000)"
   ]
  },
  {
   "cell_type": "code",
   "execution_count": 29,
   "metadata": {
    "ExecuteTime": {
     "end_time": "2020-03-26T22:05:02.355726Z",
     "start_time": "2020-03-26T22:05:01.409843Z"
    }
   },
   "outputs": [],
   "source": [
    "# Create bag of words for each description\n",
    "bow_corpus = [dictionary.doc2bow(doc) for doc in processed_des]"
   ]
  },
  {
   "cell_type": "code",
   "execution_count": 46,
   "metadata": {
    "ExecuteTime": {
     "end_time": "2020-03-26T22:15:37.106794Z",
     "start_time": "2020-03-26T22:15:36.893525Z"
    },
    "scrolled": true
   },
   "outputs": [],
   "source": [
    "# Instantiate TfidfModel and transform bag of words\n",
    "tfidf = models.TfidfModel(bow_corpus)\n",
    "corpus_tfidf = tfidf[bow_corpus]"
   ]
  },
  {
   "cell_type": "code",
   "execution_count": 53,
   "metadata": {
    "ExecuteTime": {
     "end_time": "2020-03-26T22:23:05.365795Z",
     "start_time": "2020-03-26T22:22:45.576201Z"
    }
   },
   "outputs": [],
   "source": [
    "# Create LDAMulticore model with bag of words\n",
    "lda_model = gensim.models.LdaMulticore(bow_corpus,\n",
    "                                       num_topics=2,\n",
    "                                       id2word=dictionary,\n",
    "                                       passes=2,\n",
    "                                       workers=2)"
   ]
  }
 ],
 "metadata": {
  "kernelspec": {
   "display_name": "Python 3",
   "language": "python",
   "name": "python3"
  },
  "language_info": {
   "codemirror_mode": {
    "name": "ipython",
    "version": 3
   },
   "file_extension": ".py",
   "mimetype": "text/x-python",
   "name": "python",
   "nbconvert_exporter": "python",
   "pygments_lexer": "ipython3",
   "version": "3.6.9"
  },
  "toc": {
   "base_numbering": 1,
   "nav_menu": {},
   "number_sections": true,
   "sideBar": true,
   "skip_h1_title": false,
   "title_cell": "Table of Contents",
   "title_sidebar": "Contents",
   "toc_cell": false,
   "toc_position": {},
   "toc_section_display": true,
   "toc_window_display": false
  }
 },
 "nbformat": 4,
 "nbformat_minor": 2
}
